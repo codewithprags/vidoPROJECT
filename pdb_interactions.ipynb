{
 "cells": [
  {
   "cell_type": "code",
   "execution_count": 1,
   "id": "447b36e5",
   "metadata": {},
   "outputs": [],
   "source": [
    "from Bio import PDB\n",
    "from Bio.PDB import PDBParser, PDBIO\n",
    "from Bio import SeqIO\n",
    "import numpy as np\n",
    "import pandas as pd\n",
    "\n",
    "import matplotlib.pyplot as plt\n",
    "import seaborn as sns"
   ]
  },
  {
   "cell_type": "code",
   "execution_count": 3,
   "id": "77f7e24c",
   "metadata": {},
   "outputs": [],
   "source": [
    "import interactions as it"
   ]
  },
  {
   "cell_type": "code",
   "execution_count": 5,
   "id": "3561409e",
   "metadata": {},
   "outputs": [],
   "source": [
    "pdb_id_path = \"D:/VIDO/VIDO PROJECT FILES/PDB_legacy_files/7lz6.pdb\"\n",
    "test1 = it.parse_pdb(pdb_id_path)\n",
    "test1 = it.remove_waters_and_heteroatoms(test1)\n",
    "it.save_cleaned_pdb(test1, \"D:/VIDO/VIDO PROJECT FILES/pymol_structures/7lz6_cleaned.pdb\")\n"
   ]
  },
  {
   "cell_type": "code",
   "execution_count": null,
   "id": "dc35c2d7",
   "metadata": {},
   "outputs": [],
   "source": [
    "# Compare water count before and after cleaning\n"
   ]
  }
 ],
 "metadata": {
  "kernelspec": {
   "display_name": "default",
   "language": "python",
   "name": "python3"
  },
  "language_info": {
   "codemirror_mode": {
    "name": "ipython",
    "version": 3
   },
   "file_extension": ".py",
   "mimetype": "text/x-python",
   "name": "python",
   "nbconvert_exporter": "python",
   "pygments_lexer": "ipython3",
   "version": "3.13.5"
  }
 },
 "nbformat": 4,
 "nbformat_minor": 5
}
