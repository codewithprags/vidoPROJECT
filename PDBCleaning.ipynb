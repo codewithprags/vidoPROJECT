{
 "cells": [
  {
   "cell_type": "code",
   "execution_count": 1,
   "id": "6dd584db",
   "metadata": {},
   "outputs": [],
   "source": [
    "#importing Libraries\n",
    "import pandas as pd\n",
    "import numpy as np\n",
    "import matplotlib.pyplot as plt\n",
    "import seaborn as sns\n"
   ]
  },
  {
   "cell_type": "code",
   "execution_count": 6,
   "id": "078e36ea",
   "metadata": {},
   "outputs": [
    {
     "name": "stdout",
     "output_type": "stream",
     "text": [
      "    pdb Hchain Lchain  model antigen_chain antigen_type antigen_het_name  \\\n",
      "0  9fys      B      C      0             X      protein              NaN   \n",
      "1  9fys      I      M      0             Z      protein              NaN   \n",
      "2  9fyt      I      M      0             B      protein              NaN   \n",
      "3  9fyt      C      D      0             A      protein              NaN   \n",
      "4  9uxd      D      E      0             A      protein              NaN   \n",
      "\n",
      "         antigen_name                 short_header      date  ...   scfv  \\\n",
      "0  alpha-bungarotoxin                        TOXIN  07/16/25  ...  False   \n",
      "1  alpha-bungarotoxin                        TOXIN  07/16/25  ...  False   \n",
      "2    alpha-cobratoxin                        TOXIN  07/16/25  ...  False   \n",
      "3    alpha-cobratoxin                        TOXIN  07/16/25  ...  False   \n",
      "4  spike glycoprotein  VIRAL PROTEIN/IMMUNE SYSTEM  07/16/25  ...  False   \n",
      "\n",
      "  engineered heavy_subclass light_subclass light_ctype affinity delta_g  \\\n",
      "0       True          IGHV1          IGLV6      Lambda      NaN     NaN   \n",
      "1       True          IGHV1          IGLV6      Lambda      NaN     NaN   \n",
      "2       True          IGHV1          IGLV3      Lambda      NaN     NaN   \n",
      "3       True          IGHV1          IGLV3      Lambda      NaN     NaN   \n",
      "4       True          IGHV3          IGKV3       Kappa      NaN     NaN   \n",
      "\n",
      "  affinity_method temperature pmid  \n",
      "0             NaN         NaN  NaN  \n",
      "1             NaN         NaN  NaN  \n",
      "2             NaN         NaN  NaN  \n",
      "3             NaN         NaN  NaN  \n",
      "4             NaN         NaN  NaN  \n",
      "\n",
      "[5 rows x 30 columns]\n"
     ]
    }
   ],
   "source": [
    "#Convert TSV to CSV and save the file\n",
    "# This function converts a TSV file to a CSV file using pandas\n",
    "\n",
    "tsv_file_path = 'D:/VIDO/VIDO PROJECT FILES/HOMOE_Ab_An_summary.tsv'\n",
    "csv_file_path = 'D:/VIDO/VIDO PROJECT FILES/HOMOE_Ab_An_summary.csv'\n",
    "\n",
    "#convert tsv to csv\n",
    "df = pd.read_csv(tsv_file_path, sep='\\t')\n",
    "df.to_csv(csv_file_path, index=False)\n",
    "\n",
    "# Display the first few rows of the DataFrame\n",
    "print(df.head())"
   ]
  },
  {
   "cell_type": "code",
   "execution_count": 9,
   "id": "4f3c847c",
   "metadata": {},
   "outputs": [
    {
     "name": "stdout",
     "output_type": "stream",
     "text": [
      "    pdb Hchain Lchain  model antigen_chain antigen_type antigen_het_name  \\\n",
      "0  9fys      B      C      0             X      protein              NaN   \n",
      "1  9fys      I      M      0             Z      protein              NaN   \n",
      "2  9fyt      I      M      0             B      protein              NaN   \n",
      "3  9fyt      C      D      0             A      protein              NaN   \n",
      "4  9uxd      D      E      0             A      protein              NaN   \n",
      "\n",
      "         antigen_name  \n",
      "0  alpha-bungarotoxin  \n",
      "1  alpha-bungarotoxin  \n",
      "2    alpha-cobratoxin  \n",
      "3    alpha-cobratoxin  \n",
      "4  spike glycoprotein  \n",
      "Unique PDB codes: To cross-reference with pdb entries\n",
      "******************************\n",
      "['9fys' '9fyt' '9uxd' '9uxe' '9mpw' '9nrc' '9rm2' '8yvk']\n"
     ]
    }
   ],
   "source": [
    "#subset the data from to only include the columns of interest (first 8 cols) and first 20 rows\n",
    "\n",
    "subset_df = df.iloc[:20, :8]\n",
    "# Display the subset DataFrame\n",
    "print(subset_df.head())\n",
    "\n",
    "pdb_codes_only = subset_df['pdb'].unique()\n",
    "# Display unique PDB codes\n",
    "print(\"Unique PDB codes: To cross-reference with pdb entries\")\n",
    "print(\"*\"*30)\n",
    "print(pdb_codes_only)\n"
   ]
  }
 ],
 "metadata": {
  "kernelspec": {
   "display_name": "default",
   "language": "python",
   "name": "python3"
  },
  "language_info": {
   "codemirror_mode": {
    "name": "ipython",
    "version": 3
   },
   "file_extension": ".py",
   "mimetype": "text/x-python",
   "name": "python",
   "nbconvert_exporter": "python",
   "pygments_lexer": "ipython3",
   "version": "3.13.5"
  }
 },
 "nbformat": 4,
 "nbformat_minor": 5
}
